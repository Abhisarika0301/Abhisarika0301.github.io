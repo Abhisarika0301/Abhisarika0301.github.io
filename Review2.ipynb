{
  "metadata": {
    "kernelspec": {
      "name": "python",
      "display_name": "Python (Pyodide)",
      "language": "python"
    },
    "language_info": {
      "codemirror_mode": {
        "name": "python",
        "version": 3
      },
      "file_extension": ".py",
      "mimetype": "text/x-python",
      "name": "python",
      "nbconvert_exporter": "python",
      "pygments_lexer": "ipython3",
      "version": "3.8"
    }
  },
  "nbformat_minor": 4,
  "nbformat": 4,
  "cells": [
    {
      "cell_type": "code",
      "source": "'''\n2)\tWrite a Python Program and perform the following operations?\nI.\tCreate a List {1225, 4986, 6789, 7890, 2345, 6783, 0987, 1234, 8765, 3456}\nII.\tIterate using a for loop\nIII.\tIterate using for loop and range\nIV.\tList Comprehension\nV.\tEnumerate\nVI.\tIter function and next function\nVII.\tMap function\nVIII.\tUsing zip\nIX.\tUsing NumPy Module\n\n'''",
      "metadata": {
        "trusted": true
      },
      "outputs": [
        {
          "execution_count": 1,
          "output_type": "execute_result",
          "data": {
            "text/plain": "'\\n2)\\tWrite a Python Program and perform the following operations?\\nI.\\tCreate a List {1225, 4986, 6789, 7890, 2345, 6783, 0987, 1234, 8765, 3456}\\nII.\\tIterate using a for loop\\nIII.\\tIterate using for loop and range\\nIV.\\tList Comprehension\\nV.\\tEnumerate\\nVI.\\tIter function and next function\\nVII.\\tMap function\\nVIII.\\tUsing zip\\nIX.\\tUsing NumPy Module\\n\\n'"
          },
          "metadata": {}
        }
      ],
      "execution_count": 1
    },
    {
      "cell_type": "code",
      "source": "list1=[1225,4986,6789,7890,2345,6783,987,1234,8765,3456]",
      "metadata": {
        "trusted": true
      },
      "outputs": [],
      "execution_count": 2
    },
    {
      "cell_type": "code",
      "source": "#iterate using for loop\nfor i in list1:\n    print(i)",
      "metadata": {
        "trusted": true
      },
      "outputs": [
        {
          "name": "stdout",
          "text": "1225\n4986\n6789\n7890\n2345\n6783\n987\n1234\n8765\n3456\n",
          "output_type": "stream"
        }
      ],
      "execution_count": 4
    },
    {
      "cell_type": "code",
      "source": "#iterate using for loop and range\nlength = len(list1)\nfor i in range(length):\n    print(list1[i])",
      "metadata": {
        "trusted": true
      },
      "outputs": [
        {
          "name": "stdout",
          "text": "1225\n4986\n6789\n7890\n2345\n6783\n987\n1234\n8765\n3456\n",
          "output_type": "stream"
        }
      ],
      "execution_count": 5
    },
    {
      "cell_type": "code",
      "source": "#list comprehension\ncube=[a ** 3 for a in list1] \nprint(cube)",
      "metadata": {
        "trusted": true
      },
      "outputs": [
        {
          "name": "stdout",
          "text": "[1838265625, 123952937256, 312908547069, 491169069000, 12895213625, 312079650687, 961504803, 1879080904, 673373097125, 41278242816]\n",
          "output_type": "stream"
        }
      ],
      "execution_count": 6
    },
    {
      "cell_type": "code",
      "source": "#Enumerate\nx = list(enumerate(list1))\nprint(x)",
      "metadata": {
        "trusted": true
      },
      "outputs": [
        {
          "name": "stdout",
          "text": "[(0, 1225), (1, 4986), (2, 6789), (3, 7890), (4, 2345), (5, 6783), (6, 987), (7, 1234), (8, 8765), (9, 3456)]\n",
          "output_type": "stream"
        }
      ],
      "execution_count": 7
    },
    {
      "cell_type": "code",
      "source": "# Iter function and next function\niter_list1 = iter(list1)\n\nfor element in iter_list1 :\n\n    # Print each element\n    print(element)\nfor i in iter_list1:\n    print(next(iter_list1))",
      "metadata": {
        "trusted": true
      },
      "outputs": [
        {
          "name": "stdout",
          "text": "1225\n4986\n6789\n7890\n2345\n6783\n987\n1234\n8765\n3456\n",
          "output_type": "stream"
        }
      ],
      "execution_count": 8
    },
    {
      "cell_type": "code",
      "source": "#map function\nmapped_list = list(map(lambda x: x * 2, list1))\nprint(mapped_list)",
      "metadata": {
        "trusted": true
      },
      "outputs": [
        {
          "name": "stdout",
          "text": "[2450, 9972, 13578, 15780, 4690, 13566, 1974, 2468, 17530, 6912]\n",
          "output_type": "stream"
        }
      ],
      "execution_count": 9
    },
    {
      "cell_type": "code",
      "source": "# Zip Function\nzipped = zip(list1)\nlist(zipped)",
      "metadata": {
        "trusted": true
      },
      "outputs": [
        {
          "execution_count": 10,
          "output_type": "execute_result",
          "data": {
            "text/plain": "[(1225,),\n (4986,),\n (6789,),\n (7890,),\n (2345,),\n (6783,),\n (987,),\n (1234,),\n (8765,),\n (3456,)]"
          },
          "metadata": {}
        }
      ],
      "execution_count": 10
    },
    {
      "cell_type": "code",
      "source": "#Numpy Module\nimport numpy\narr = numpy.array(list1)\nprint(arr)",
      "metadata": {
        "trusted": true
      },
      "outputs": [
        {
          "name": "stdout",
          "text": "[1225 4986 6789 7890 2345 6783  987 1234 8765 3456]\n",
          "output_type": "stream"
        }
      ],
      "execution_count": 11
    }
  ]
}
