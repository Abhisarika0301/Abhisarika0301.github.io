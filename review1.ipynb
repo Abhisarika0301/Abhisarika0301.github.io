{
  "metadata": {
    "kernelspec": {
      "name": "python",
      "display_name": "Python (Pyodide)",
      "language": "python"
    },
    "language_info": {
      "codemirror_mode": {
        "name": "python",
        "version": 3
      },
      "file_extension": ".py",
      "mimetype": "text/x-python",
      "name": "python",
      "nbconvert_exporter": "python",
      "pygments_lexer": "ipython3",
      "version": "3.8"
    }
  },
  "nbformat_minor": 5,
  "nbformat": 4,
  "cells": [
    {
      "id": "a35eeb9f-df70-4ab1-a243-2d2025888eb0",
      "cell_type": "markdown",
      "source": "# Introduction to the JupyterLab and Jupyter Notebooks\n\nThis is a short introduction to two of the flagship tools created by [the Jupyter Community](https://jupyter.org).\n\n> **⚠️Experimental!⚠️**: This is an experimental interface provided by the [JupyterLite project](https://jupyterlite.readthedocs.io/en/latest/). It embeds an entire JupyterLab interface, with many popular packages for scientific computing, in your browser. There may be minor differences in behavior between JupyterLite and the JupyterLab you install locally. You may also encounter some bugs or unexpected behavior. To report any issues, or to get involved with the JupyterLite project, see [the JupyterLite repository](https://github.com/jupyterlite/jupyterlite/issues?q=is%3Aissue+is%3Aopen+sort%3Aupdated-desc).\n\n## JupyterLab 🧪\n\n**JupyterLab** is a next-generation web-based user interface for Project Jupyter. It enables you to work with documents and activities such as Jupyter notebooks, text editors, terminals, and custom components in a flexible, integrated, and extensible manner. It is the interface that you're looking at right now.\n\n**For an overview of the JupyterLab interface**, see the **JupyterLab Welcome Tour** on this page, by going to `Help -> Welcome Tour` and following the prompts.\n\n> **See Also**: For a more in-depth tour of JupyterLab with a full environment that runs in the cloud, see [the JupyterLab introduction on Binder](https://mybinder.org/v2/gh/jupyterlab/jupyterlab-demo/HEAD?urlpath=lab/tree/demo).\n\n## Jupyter Notebooks 📓\n\n**Jupyter Notebooks** are a community standard for communicating and performing interactive computing. They are a document that blends computations, outputs, explanatory text, mathematics, images, and rich media representations of objects.\n\nJupyterLab is one interface used to create and interact with Jupyter Notebooks.\n\n**For an overview of Jupyter Notebooks**, see the **JupyterLab Welcome Tour** on this page, by going to `Help -> Notebook Tour` and following the prompts.\n\n> **See Also**: For a more in-depth tour of Jupyter Notebooks and the Classic Jupyter Notebook interface, see [the Jupyter Notebook IPython tutorial on Binder](https://mybinder.org/v2/gh/ipython/ipython-in-depth/HEAD?urlpath=tree/binder/Index.ipynb).\n\n## An example: visualizing data in the notebook ✨\n\nBelow is an example of a code cell. We'll visualize some simple data using two popular packages in Python. We'll use [NumPy](https://numpy.org/) to create some random data, and [Matplotlib](https://matplotlib.org) to visualize it.\n\nNote how the code and the results of running the code are bundled together.",
      "metadata": {}
    },
    {
      "id": "4220304c-a4cc-4adb-a8d1-410bdf1a5698",
      "cell_type": "code",
      "source": "'''\n1)\tDefine the following metrics and perform the following operations\ni)\tWrite a Python program using Python Lists\nii)\tWrite a Python program and NumPy\n\nMatrix A =  [[ 3.7827  3.3454  3.2341]  , [ 2.2122  3.5678  3.9087] ,\n[1.1234  2.8934,  5.9087]].\n\nMatrix B =  [[ 3.1234  3.0987  3.1234]  , [ 2.1111  3.2222  3.3333] ,\n[1.0987  1.3456,  5.1234]].\n\nMatrix C =  [[ 3.1243  3.0989  3.1256 ]  , [ 2.6721  3.6785  3.9017] ,\n[1.1254  2.8956,  5.9187]].'''",
      "metadata": {
        "trusted": true
      },
      "outputs": [
        {
          "execution_count": 8,
          "output_type": "execute_result",
          "data": {
            "text/plain": "'\\n1)\\tDefine the following metrics and perform the following operations\\ni)\\tWrite a Python program using Python Lists\\nii)\\tWrite a Python program and NumPy\\n\\nMatrix A =  [[ 3.7827  3.3454  3.2341]  , [ 2.2122  3.5678  3.9087] ,\\n[1.1234  2.8934,  5.9087]].\\n\\nMatrix B =  [[ 3.1234  3.0987  3.1234]  , [ 2.1111  3.2222  3.3333] ,\\n[1.0987  1.3456,  5.1234]].\\n\\nMatrix C =  [[ 3.1243  3.0989  3.1256 ]  , [ 2.6721  3.6785  3.9017] ,\\n[1.1254  2.8956,  5.9187]].'"
          },
          "metadata": {}
        }
      ],
      "execution_count": 8
    },
    {
      "id": "0eb08cfc-2c13-48ca-ad7b-55bacd3526e5",
      "cell_type": "code",
      "source": "#Define matrices\nA = [[3.7827, 3.3454, 3.2341], [2.2122, 3.5678, 3.9087], [1.1234, 2.8934, 5.9087]]\nB = [[3.1234, 3.0987, 3.1234], [2.1111, 3.2222, 3.3333], [1.0987, 1.3456, 5.1234]]\nC = [[3.1243, 3.0989, 3.1256], [2.6721, 3.6785, 3.9017], [1.1254, 2.8956, 5.9187]]\nresult = [[0,0,0],\n         [0,0,0],\n         [0,0,0]]",
      "metadata": {
        "trusted": true
      },
      "outputs": [],
      "execution_count": 2
    },
    {
      "id": "3422de2e-b8da-4d4a-90fb-5101ada4fdd5",
      "cell_type": "code",
      "source": "#Using python lists",
      "metadata": {
        "trusted": true
      },
      "outputs": [],
      "execution_count": null
    },
    {
      "id": "43d374c6-e73e-46eb-9afb-63b70454f815",
      "cell_type": "code",
      "source": "#Addition operation of matrix A and matrix B\nresult = [[A[i][j] + B[i][j]  for j in range(len(A[0]))] for i in range(len(A))]\n\nfor r in result:\n   print(r)",
      "metadata": {
        "trusted": true
      },
      "outputs": [
        {
          "name": "stdout",
          "text": "[6.9061, 6.444100000000001, 6.3575]\n[4.3233, 6.79, 7.242]\n[2.2221, 4.239, 11.0321]\n",
          "output_type": "stream"
        }
      ],
      "execution_count": 4
    },
    {
      "id": "f89f7c30-35b9-437d-a81d-b4733fcdf695",
      "cell_type": "code",
      "source": "#Subtraction operation of matrix A and matrix C\nresult = [[A[i][j] - C[i][j]  for j in range(len(A[0]))] for i in range(len(A))]\n\nfor r in result:\n   print(r)",
      "metadata": {
        "trusted": true
      },
      "outputs": [
        {
          "name": "stdout",
          "text": "[0.6584000000000003, 0.24650000000000016, 0.10850000000000026]\n[-0.45989999999999975, -0.11070000000000002, 0.007000000000000117]\n[-0.0020000000000000018, -0.0021999999999997577, -0.010000000000000675]\n",
          "output_type": "stream"
        }
      ],
      "execution_count": 10
    },
    {
      "id": "3e6fd1af-21c1-45a3-adf3-567bcb20c88d",
      "cell_type": "code",
      "source": "#Multiplication operation of matrix B and matrix C\nresult = [[sum(a*b for a,b in zip(B_row,C_col)) for C_col in zip(*C)] for B_row in B]\n\nfor r in result:\n   print(r)",
      "metadata": {
        "trusted": true
      },
      "outputs": [
        {
          "name": "stdout",
          "text": "[21.55354925, 30.12178925, 40.33916441]\n[18.957046169999998, 28.04685397, 38.89931461]\n[12.794120529999999, 23.18986807, 39.008091820000004]\n",
          "output_type": "stream"
        }
      ],
      "execution_count": 11
    },
    {
      "id": "570edc00-89be-4533-8150-962ec863a21a",
      "cell_type": "code",
      "source": "#Transpose of matrix A\nfor i in range(len(A)):\n   # iterate through columns\n   for j in range(len(A[0])):\n       result[j][i] = A[i][j]\n\nfor r in result:\n   print(r)",
      "metadata": {
        "trusted": true
      },
      "outputs": [
        {
          "name": "stdout",
          "text": "[3.7827, 2.2122, 1.1234]\n[3.3454, 3.5678, 2.8934]\n[3.2341, 3.9087, 5.9087]\n",
          "output_type": "stream"
        }
      ],
      "execution_count": 7
    },
    {
      "id": "00518743-6237-49ba-af15-2662a49a6217",
      "cell_type": "code",
      "source": "#Transpose of matrix B\nfor i in range(len(B)):\n   # iterate through columns\n   for j in range(len(B[0])):\n       result[j][i] = A[i][j]\n\nfor r in result:\n   print(r)",
      "metadata": {
        "trusted": true
      },
      "outputs": [
        {
          "name": "stdout",
          "text": "[3.7827, 2.2122, 1.1234]\n[3.3454, 3.5678, 2.8934]\n[3.2341, 3.9087, 5.9087]\n",
          "output_type": "stream"
        }
      ],
      "execution_count": 9
    },
    {
      "id": "51028c87-1a6e-4e72-bb65-89a7b06168d2",
      "cell_type": "code",
      "source": "#Transpose of matrix C\nfor i in range(len(C)):\n   # iterate through columns\n   for j in range(len(C[0])):\n       result[j][i] = C[i][j]\n\nfor r in result:\n   print(r)",
      "metadata": {
        "trusted": true
      },
      "outputs": [
        {
          "name": "stdout",
          "text": "[3.1243, 2.6721, 1.1254]\n[3.0989, 3.6785, 2.8956]\n[3.1256, 3.9017, 5.9187]\n",
          "output_type": "stream"
        }
      ],
      "execution_count": 12
    },
    {
      "id": "ef20c38d-8cd2-41c9-9ec8-7a9ad1d7ec38",
      "cell_type": "code",
      "source": "#ii.Using Numpy",
      "metadata": {
        "trusted": true
      },
      "outputs": [],
      "execution_count": 19
    },
    {
      "id": "97cda354-381f-47cd-8a60-8d3cc54b5869",
      "cell_type": "code",
      "source": "import numpy as np",
      "metadata": {
        "trusted": true
      },
      "outputs": [],
      "execution_count": 15
    },
    {
      "id": "00d6e4fe-ac78-41b5-a282-1df71aa61120",
      "cell_type": "code",
      "source": "matrix1= np.array(A)\nmatrix2=np.array(B)\nmatrix3=np.array(C)\nsum1=np.add(matrix1,matrix2)\nprint(sum1)\nsub2=np.subtract(matrix1,matrix3)\nprint(sub2)\nmul=np.multiply(matrix1,matrix3)\nprint(mul)\ntran=matrix1.transpose()\nprint(tran)",
      "metadata": {
        "trusted": true
      },
      "outputs": [
        {
          "name": "stdout",
          "text": "[[ 6.9061  6.4441  6.3575]\n [ 4.3233  6.79    7.242 ]\n [ 2.2221  4.239  11.0321]]\n[[ 0.6584  0.2465  0.1085]\n [-0.4599 -0.1107  0.007 ]\n [-0.002  -0.0022 -0.01  ]]\n[[11.81828961 10.36706006 10.10850296]\n [ 5.91121962 13.1241523  15.25057479]\n [ 1.26427436  8.37812904 34.97182269]]\n[[3.7827 2.2122 1.1234]\n [3.3454 3.5678 2.8934]\n [3.2341 3.9087 5.9087]]\n",
          "output_type": "stream"
        }
      ],
      "execution_count": 18
    },
    {
      "id": "dc4fd9d3-0ee2-452e-8764-6f3cb535c118",
      "cell_type": "code",
      "source": "",
      "metadata": {
        "trusted": true
      },
      "outputs": [],
      "execution_count": null
    },
    {
      "id": "b9670d85-ef29-4dfd-b4b5-e76d279c1f1a",
      "cell_type": "markdown",
      "source": "## Next steps 🏃\n\nThis is just a short introduction to JupyterLab and Jupyter Notebooks. See below for some more ways to interact with tools in the Jupyter ecosystem, and its community.\n\n### Other notebooks in this demo\n\nHere are some other notebooks in this demo. Each of the items below corresponds to a file or folder in the **file browser to the left**.\n\n- [**`Lorenz.ipynb`**](Lorenz.ipynb) uses Python to demonstrate interactive visualizations and computations around the [Lorenz system](https://en.wikipedia.org/wiki/Lorenz_system). It shows off basic Python functionality, including more visualizations, data structures, and scientific computing libraries.\n- [**`sqlite.ipynb`**](sqlite.ipynb) demonstrates how an in-browser sqlite kernel to run your own SQL commands from the notebook. It uses the [jupyterlite/xeus-sqlite-kernel](https://github.com/jupyterlite/xeus-sqlite-kernel).\n\n### Other sources of information in Jupyter\n\n- **More on using JupyterLab**: See [the JupyterLab documentation](https://jupyterlab.readthedocs.io/en/stable/) for more thorough information about how to install and use JupyterLab.\n- **More interactive demos**: See [try.jupyter.org](https://try.jupyter.org) for more interactive demos with the Jupyter ecosystem.\n- **Learn more about Jupyter**: See [the Jupyter community documentation](https://docs.jupyter.org) to learn more about the project, its community and tools, and how to get involved.\n- **Join our discussions**: The [Jupyter Community Forum](https://discourse.jupyter.org) is a place where many in the Jupyter community ask questions, help one another, and discuss issues around interactive computing and our ecosystem.",
      "metadata": {}
    }
  ]
}