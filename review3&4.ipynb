{
  "metadata": {
    "kernelspec": {
      "name": "python",
      "display_name": "Python (Pyodide)",
      "language": "python"
    },
    "language_info": {
      "codemirror_mode": {
        "name": "python",
        "version": 3
      },
      "file_extension": ".py",
      "mimetype": "text/x-python",
      "name": "python",
      "nbconvert_exporter": "python",
      "pygments_lexer": "ipython3",
      "version": "3.8"
    }
  },
  "nbformat_minor": 4,
  "nbformat": 4,
  "cells": [
    {
      "cell_type": "code",
      "source": "'''\n3)\tFor a List A, B, C, D, E write a python program to compute all the combinations and permutations\n\n4)\tUsing the same list use itertools compute permutations and combinations\n\n'''",
      "metadata": {
        "trusted": true
      },
      "outputs": [
        {
          "execution_count": 1,
          "output_type": "execute_result",
          "data": {
            "text/plain": "'\\n3)\\tFor a List A, B, C, D, E write a python program to compute all the combinations and permutations\\n\\n4)\\tUsing the same list use itertools compute permutations and combinations\\n\\n'"
          },
          "metadata": {}
        }
      ],
      "execution_count": 1
    },
    {
      "cell_type": "code",
      "source": "list1=['A','B','C','D','E']",
      "metadata": {
        "trusted": true
      },
      "outputs": [],
      "execution_count": 4
    },
    {
      "cell_type": "code",
      "source": "#Combinations",
      "metadata": {
        "trusted": true
      },
      "outputs": [],
      "execution_count": 17
    },
    {
      "cell_type": "code",
      "source": "def combinations(list1, n):\n    if n == 0:\n        return [[]]\n    if len(list1) == 0:\n        return []\n    \n    comb_list = []\n    for i in range(len(list1)):\n        m = list1[i]\n        rem_list1 = list1[i+1:]\n        \n        for c in combinations(rem_list1, n-1):\n            comb_list.append([m] + c)\n    return comb_list\nprint(combinations(list1, 3))",
      "metadata": {
        "trusted": true
      },
      "outputs": [
        {
          "name": "stdout",
          "text": "[['A', 'B', 'C'], ['A', 'B', 'D'], ['A', 'B', 'E'], ['A', 'C', 'D'], ['A', 'C', 'E'], ['A', 'D', 'E'], ['B', 'C', 'D'], ['B', 'C', 'E'], ['B', 'D', 'E'], ['C', 'D', 'E']]\n",
          "output_type": "stream"
        }
      ],
      "execution_count": 16
    },
    {
      "cell_type": "code",
      "source": "# Permutations",
      "metadata": {
        "trusted": true
      },
      "outputs": [],
      "execution_count": 18
    },
    {
      "cell_type": "code",
      "source": "def permutation(list1):\n \n    if len(list1) == 0:\n        return []\n    if len(list1) == 1:\n        return [list1]\n \n    l = [] \n \n    \n    for i in range(len(list1)):\n       m = list1[i]\n \n       # Extract lst[i] or m from the list.  remLst is\n       # remaining list\n       remLst = list1[:i] + list1[i+1:]\n \n       # Generating all permutations where m is first\n       # element\n       for p in permutation(remLst):\n           l.append([m] + p)\n    return l\nfor p in permutation(list1):\n    print (p)",
      "metadata": {
        "trusted": true
      },
      "outputs": [
        {
          "name": "stdout",
          "text": "['A', 'B', 'C', 'D', 'E']\n['A', 'B', 'C', 'E', 'D']\n['A', 'B', 'D', 'C', 'E']\n['A', 'B', 'D', 'E', 'C']\n['A', 'B', 'E', 'C', 'D']\n['A', 'B', 'E', 'D', 'C']\n['A', 'C', 'B', 'D', 'E']\n['A', 'C', 'B', 'E', 'D']\n['A', 'C', 'D', 'B', 'E']\n['A', 'C', 'D', 'E', 'B']\n['A', 'C', 'E', 'B', 'D']\n['A', 'C', 'E', 'D', 'B']\n['A', 'D', 'B', 'C', 'E']\n['A', 'D', 'B', 'E', 'C']\n['A', 'D', 'C', 'B', 'E']\n['A', 'D', 'C', 'E', 'B']\n['A', 'D', 'E', 'B', 'C']\n['A', 'D', 'E', 'C', 'B']\n['A', 'E', 'B', 'C', 'D']\n['A', 'E', 'B', 'D', 'C']\n['A', 'E', 'C', 'B', 'D']\n['A', 'E', 'C', 'D', 'B']\n['A', 'E', 'D', 'B', 'C']\n['A', 'E', 'D', 'C', 'B']\n['B', 'A', 'C', 'D', 'E']\n['B', 'A', 'C', 'E', 'D']\n['B', 'A', 'D', 'C', 'E']\n['B', 'A', 'D', 'E', 'C']\n['B', 'A', 'E', 'C', 'D']\n['B', 'A', 'E', 'D', 'C']\n['B', 'C', 'A', 'D', 'E']\n['B', 'C', 'A', 'E', 'D']\n['B', 'C', 'D', 'A', 'E']\n['B', 'C', 'D', 'E', 'A']\n['B', 'C', 'E', 'A', 'D']\n['B', 'C', 'E', 'D', 'A']\n['B', 'D', 'A', 'C', 'E']\n['B', 'D', 'A', 'E', 'C']\n['B', 'D', 'C', 'A', 'E']\n['B', 'D', 'C', 'E', 'A']\n['B', 'D', 'E', 'A', 'C']\n['B', 'D', 'E', 'C', 'A']\n['B', 'E', 'A', 'C', 'D']\n['B', 'E', 'A', 'D', 'C']\n['B', 'E', 'C', 'A', 'D']\n['B', 'E', 'C', 'D', 'A']\n['B', 'E', 'D', 'A', 'C']\n['B', 'E', 'D', 'C', 'A']\n['C', 'A', 'B', 'D', 'E']\n['C', 'A', 'B', 'E', 'D']\n['C', 'A', 'D', 'B', 'E']\n['C', 'A', 'D', 'E', 'B']\n['C', 'A', 'E', 'B', 'D']\n['C', 'A', 'E', 'D', 'B']\n['C', 'B', 'A', 'D', 'E']\n['C', 'B', 'A', 'E', 'D']\n['C', 'B', 'D', 'A', 'E']\n['C', 'B', 'D', 'E', 'A']\n['C', 'B', 'E', 'A', 'D']\n['C', 'B', 'E', 'D', 'A']\n['C', 'D', 'A', 'B', 'E']\n['C', 'D', 'A', 'E', 'B']\n['C', 'D', 'B', 'A', 'E']\n['C', 'D', 'B', 'E', 'A']\n['C', 'D', 'E', 'A', 'B']\n['C', 'D', 'E', 'B', 'A']\n['C', 'E', 'A', 'B', 'D']\n['C', 'E', 'A', 'D', 'B']\n['C', 'E', 'B', 'A', 'D']\n['C', 'E', 'B', 'D', 'A']\n['C', 'E', 'D', 'A', 'B']\n['C', 'E', 'D', 'B', 'A']\n['D', 'A', 'B', 'C', 'E']\n['D', 'A', 'B', 'E', 'C']\n['D', 'A', 'C', 'B', 'E']\n['D', 'A', 'C', 'E', 'B']\n['D', 'A', 'E', 'B', 'C']\n['D', 'A', 'E', 'C', 'B']\n['D', 'B', 'A', 'C', 'E']\n['D', 'B', 'A', 'E', 'C']\n['D', 'B', 'C', 'A', 'E']\n['D', 'B', 'C', 'E', 'A']\n['D', 'B', 'E', 'A', 'C']\n['D', 'B', 'E', 'C', 'A']\n['D', 'C', 'A', 'B', 'E']\n['D', 'C', 'A', 'E', 'B']\n['D', 'C', 'B', 'A', 'E']\n['D', 'C', 'B', 'E', 'A']\n['D', 'C', 'E', 'A', 'B']\n['D', 'C', 'E', 'B', 'A']\n['D', 'E', 'A', 'B', 'C']\n['D', 'E', 'A', 'C', 'B']\n['D', 'E', 'B', 'A', 'C']\n['D', 'E', 'B', 'C', 'A']\n['D', 'E', 'C', 'A', 'B']\n['D', 'E', 'C', 'B', 'A']\n['E', 'A', 'B', 'C', 'D']\n['E', 'A', 'B', 'D', 'C']\n['E', 'A', 'C', 'B', 'D']\n['E', 'A', 'C', 'D', 'B']\n['E', 'A', 'D', 'B', 'C']\n['E', 'A', 'D', 'C', 'B']\n['E', 'B', 'A', 'C', 'D']\n['E', 'B', 'A', 'D', 'C']\n['E', 'B', 'C', 'A', 'D']\n['E', 'B', 'C', 'D', 'A']\n['E', 'B', 'D', 'A', 'C']\n['E', 'B', 'D', 'C', 'A']\n['E', 'C', 'A', 'B', 'D']\n['E', 'C', 'A', 'D', 'B']\n['E', 'C', 'B', 'A', 'D']\n['E', 'C', 'B', 'D', 'A']\n['E', 'C', 'D', 'A', 'B']\n['E', 'C', 'D', 'B', 'A']\n['E', 'D', 'A', 'B', 'C']\n['E', 'D', 'A', 'C', 'B']\n['E', 'D', 'B', 'A', 'C']\n['E', 'D', 'B', 'C', 'A']\n['E', 'D', 'C', 'A', 'B']\n['E', 'D', 'C', 'B', 'A']\n",
          "output_type": "stream"
        }
      ],
      "execution_count": 6
    },
    {
      "cell_type": "code",
      "source": "#Using Iter tools",
      "metadata": {
        "trusted": true
      },
      "outputs": [],
      "execution_count": null
    },
    {
      "cell_type": "code",
      "source": "from itertools import combinations\n \ncomb = combinations(list1,3)\n \n# Print the obtained combinations\nfor i in list(comb):\n    print (i)\nfrom itertools import permutations \n \n \n# Get all permutations of [1, 2, 3] \nperm = permutations(list1) \n \n# Print the obtained permutations \nfor i in list(perm): \n    print (i)",
      "metadata": {
        "trusted": true
      },
      "outputs": [
        {
          "name": "stdout",
          "text": "('A', 'B', 'C')\n('A', 'B', 'D')\n('A', 'B', 'E')\n('A', 'C', 'D')\n('A', 'C', 'E')\n('A', 'D', 'E')\n('B', 'C', 'D')\n('B', 'C', 'E')\n('B', 'D', 'E')\n('C', 'D', 'E')\n('A', 'B', 'C', 'D', 'E')\n('A', 'B', 'C', 'E', 'D')\n('A', 'B', 'D', 'C', 'E')\n('A', 'B', 'D', 'E', 'C')\n('A', 'B', 'E', 'C', 'D')\n('A', 'B', 'E', 'D', 'C')\n('A', 'C', 'B', 'D', 'E')\n('A', 'C', 'B', 'E', 'D')\n('A', 'C', 'D', 'B', 'E')\n('A', 'C', 'D', 'E', 'B')\n('A', 'C', 'E', 'B', 'D')\n('A', 'C', 'E', 'D', 'B')\n('A', 'D', 'B', 'C', 'E')\n('A', 'D', 'B', 'E', 'C')\n('A', 'D', 'C', 'B', 'E')\n('A', 'D', 'C', 'E', 'B')\n('A', 'D', 'E', 'B', 'C')\n('A', 'D', 'E', 'C', 'B')\n('A', 'E', 'B', 'C', 'D')\n('A', 'E', 'B', 'D', 'C')\n('A', 'E', 'C', 'B', 'D')\n('A', 'E', 'C', 'D', 'B')\n('A', 'E', 'D', 'B', 'C')\n('A', 'E', 'D', 'C', 'B')\n('B', 'A', 'C', 'D', 'E')\n('B', 'A', 'C', 'E', 'D')\n('B', 'A', 'D', 'C', 'E')\n('B', 'A', 'D', 'E', 'C')\n('B', 'A', 'E', 'C', 'D')\n('B', 'A', 'E', 'D', 'C')\n('B', 'C', 'A', 'D', 'E')\n('B', 'C', 'A', 'E', 'D')\n('B', 'C', 'D', 'A', 'E')\n('B', 'C', 'D', 'E', 'A')\n('B', 'C', 'E', 'A', 'D')\n('B', 'C', 'E', 'D', 'A')\n('B', 'D', 'A', 'C', 'E')\n('B', 'D', 'A', 'E', 'C')\n('B', 'D', 'C', 'A', 'E')\n('B', 'D', 'C', 'E', 'A')\n('B', 'D', 'E', 'A', 'C')\n('B', 'D', 'E', 'C', 'A')\n('B', 'E', 'A', 'C', 'D')\n('B', 'E', 'A', 'D', 'C')\n('B', 'E', 'C', 'A', 'D')\n('B', 'E', 'C', 'D', 'A')\n('B', 'E', 'D', 'A', 'C')\n('B', 'E', 'D', 'C', 'A')\n('C', 'A', 'B', 'D', 'E')\n('C', 'A', 'B', 'E', 'D')\n('C', 'A', 'D', 'B', 'E')\n('C', 'A', 'D', 'E', 'B')\n('C', 'A', 'E', 'B', 'D')\n('C', 'A', 'E', 'D', 'B')\n('C', 'B', 'A', 'D', 'E')\n('C', 'B', 'A', 'E', 'D')\n('C', 'B', 'D', 'A', 'E')\n('C', 'B', 'D', 'E', 'A')\n('C', 'B', 'E', 'A', 'D')\n('C', 'B', 'E', 'D', 'A')\n('C', 'D', 'A', 'B', 'E')\n('C', 'D', 'A', 'E', 'B')\n('C', 'D', 'B', 'A', 'E')\n('C', 'D', 'B', 'E', 'A')\n('C', 'D', 'E', 'A', 'B')\n('C', 'D', 'E', 'B', 'A')\n('C', 'E', 'A', 'B', 'D')\n('C', 'E', 'A', 'D', 'B')\n('C', 'E', 'B', 'A', 'D')\n('C', 'E', 'B', 'D', 'A')\n('C', 'E', 'D', 'A', 'B')\n('C', 'E', 'D', 'B', 'A')\n('D', 'A', 'B', 'C', 'E')\n('D', 'A', 'B', 'E', 'C')\n('D', 'A', 'C', 'B', 'E')\n('D', 'A', 'C', 'E', 'B')\n('D', 'A', 'E', 'B', 'C')\n('D', 'A', 'E', 'C', 'B')\n('D', 'B', 'A', 'C', 'E')\n('D', 'B', 'A', 'E', 'C')\n('D', 'B', 'C', 'A', 'E')\n('D', 'B', 'C', 'E', 'A')\n('D', 'B', 'E', 'A', 'C')\n('D', 'B', 'E', 'C', 'A')\n('D', 'C', 'A', 'B', 'E')\n('D', 'C', 'A', 'E', 'B')\n('D', 'C', 'B', 'A', 'E')\n('D', 'C', 'B', 'E', 'A')\n('D', 'C', 'E', 'A', 'B')\n('D', 'C', 'E', 'B', 'A')\n('D', 'E', 'A', 'B', 'C')\n('D', 'E', 'A', 'C', 'B')\n('D', 'E', 'B', 'A', 'C')\n('D', 'E', 'B', 'C', 'A')\n('D', 'E', 'C', 'A', 'B')\n('D', 'E', 'C', 'B', 'A')\n('E', 'A', 'B', 'C', 'D')\n('E', 'A', 'B', 'D', 'C')\n('E', 'A', 'C', 'B', 'D')\n('E', 'A', 'C', 'D', 'B')\n('E', 'A', 'D', 'B', 'C')\n('E', 'A', 'D', 'C', 'B')\n('E', 'B', 'A', 'C', 'D')\n('E', 'B', 'A', 'D', 'C')\n('E', 'B', 'C', 'A', 'D')\n('E', 'B', 'C', 'D', 'A')\n('E', 'B', 'D', 'A', 'C')\n('E', 'B', 'D', 'C', 'A')\n('E', 'C', 'A', 'B', 'D')\n('E', 'C', 'A', 'D', 'B')\n('E', 'C', 'B', 'A', 'D')\n('E', 'C', 'B', 'D', 'A')\n('E', 'C', 'D', 'A', 'B')\n('E', 'C', 'D', 'B', 'A')\n('E', 'D', 'A', 'B', 'C')\n('E', 'D', 'A', 'C', 'B')\n('E', 'D', 'B', 'A', 'C')\n('E', 'D', 'B', 'C', 'A')\n('E', 'D', 'C', 'A', 'B')\n('E', 'D', 'C', 'B', 'A')\n",
          "output_type": "stream"
        }
      ],
      "execution_count": 21
    },
    {
      "cell_type": "code",
      "source": "",
      "metadata": {
        "trusted": true
      },
      "outputs": [],
      "execution_count": null
    }
  ]
}